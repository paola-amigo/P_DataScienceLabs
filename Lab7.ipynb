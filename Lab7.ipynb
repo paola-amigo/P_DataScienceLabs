{
 "cells": [
  {
   "cell_type": "code",
   "execution_count": 1,
   "metadata": {},
   "outputs": [],
   "source": [
    "#import packages\n",
    "\n",
    "import pandas as pd\n",
    "import numpy as np\n",
    "import scipy.stats\n",
    "import matplotlib.pyplot as plt\n",
    "import seaborn as sns\n",
    "import plotly.express as px\n",
    "import scipy as sp\n",
    "from scipy import spatial\n",
    "from sklearn import datasets, linear_model\n",
    "from sklearn.metrics import mean_squared_error, r2_score\n",
    "import statsmodels.api as sm\n",
    "from sklearn.decomposition import PCA\n",
    "import pylab as plt\n",
    "from sklearn.cluster import KMeans\n",
    "from sklearn.preprocessing import StandardScaler"
   ]
  },
  {
   "cell_type": "markdown",
   "metadata": {},
   "source": [
    "## Exercise 1: Dimension Reduction with PCA"
   ]
  },
  {
   "cell_type": "code",
   "execution_count": 3,
   "metadata": {},
   "outputs": [],
   "source": [
    "#Import database\n",
    "\n",
    "census = pd.read_csv('censusCrimeClean.csv')"
   ]
  },
  {
   "cell_type": "code",
   "execution_count": 4,
   "metadata": {},
   "outputs": [
    {
     "name": "stdout",
     "output_type": "stream",
     "text": [
      "<class 'pandas.core.frame.DataFrame'>\n",
      "RangeIndex: 1994 entries, 0 to 1993\n",
      "Columns: 102 entries, communityname to ViolentCrimesPerPop\n",
      "dtypes: float64(100), int64(1), object(1)\n",
      "memory usage: 1.6+ MB\n"
     ]
    },
    {
     "data": {
      "text/plain": [
       "communityname           object\n",
       "fold                     int64\n",
       "population             float64\n",
       "householdsize          float64\n",
       "racepctblack           float64\n",
       "                        ...   \n",
       "PctSameState85         float64\n",
       "LandArea               float64\n",
       "PopDens                float64\n",
       "PctUsePubTrans         float64\n",
       "ViolentCrimesPerPop    float64\n",
       "Length: 102, dtype: object"
      ]
     },
     "execution_count": 4,
     "metadata": {},
     "output_type": "execute_result"
    }
   ],
   "source": [
    "#Review data types of the data frame\n",
    "census.info()\n",
    "census.dtypes"
   ]
  },
  {
   "cell_type": "code",
   "execution_count": 5,
   "metadata": {},
   "outputs": [],
   "source": [
    "census.drop('communityname', inplace= True, axis=1)"
   ]
  },
  {
   "cell_type": "code",
   "execution_count": 6,
   "metadata": {},
   "outputs": [
    {
     "data": {
      "text/plain": [
       "fold                     int64\n",
       "population             float64\n",
       "householdsize          float64\n",
       "racepctblack           float64\n",
       "racePctWhite           float64\n",
       "                        ...   \n",
       "PctSameState85         float64\n",
       "LandArea               float64\n",
       "PopDens                float64\n",
       "PctUsePubTrans         float64\n",
       "ViolentCrimesPerPop    float64\n",
       "Length: 101, dtype: object"
      ]
     },
     "execution_count": 6,
     "metadata": {},
     "output_type": "execute_result"
    }
   ],
   "source": [
    "census.dtypes"
   ]
  },
  {
   "cell_type": "code",
   "execution_count": 7,
   "metadata": {},
   "outputs": [
    {
     "name": "stdout",
     "output_type": "stream",
     "text": [
      "[8.26130789 1.08655844]\n",
      "[0.67387831 0.08863102]\n"
     ]
    },
    {
     "data": {
      "text/plain": [
       "<matplotlib.collections.PathCollection at 0x7fc02813f4c0>"
      ]
     },
     "execution_count": 7,
     "metadata": {},
     "output_type": "execute_result"
    },
    {
     "data": {
      "image/png": "[encoded data removed]",
      "text/plain": [
       "<Figure size 432x288 with 1 Axes>"
      ]
     },
     "metadata": {
      "needs_background": "light"
     },
     "output_type": "display_data"
    }
   ],
   "source": [
    "pca= PCA(n_components=2)\n",
    "pca0 =pca.fit(census)\n",
    "print(pca0.explained_variance_)\n",
    "print(pca0.explained_variance_ratio_)\n",
    "pca0_= pca0.fit_transform(census)\n",
    "plt.scatter(pca0_[:,0],pca0_[:,1])"
   ]
  },
  {
   "cell_type": "code",
   "execution_count": 8,
   "metadata": {},
   "outputs": [],
   "source": [
    "scaler= StandardScaler()\n",
    "census_scaled= scaler.fit_transform(census)"
   ]
  },
  {
   "cell_type": "code",
   "execution_count": 9,
   "metadata": {},
   "outputs": [
    {
     "name": "stdout",
     "output_type": "stream",
     "text": [
      "[25.53270772 16.84283532]\n",
      "[0.25267231 0.16667711]\n"
     ]
    }
   ],
   "source": [
    "pca1= pca.fit(census_scaled)\n",
    "print(pca1.explained_variance_)\n",
    "print(pca1.explained_variance_ratio_)"
   ]
  },
  {
   "cell_type": "code",
   "execution_count": 10,
   "metadata": {},
   "outputs": [],
   "source": [
    "columns= list(census.columns)"
   ]
  },
  {
   "cell_type": "code",
   "execution_count": 11,
   "metadata": {},
   "outputs": [
    {
     "data": {
      "text/html": [
       "<div>\n",
       "<style scoped>\n",
       "    .dataframe tbody tr th:only-of-type {\n",
       "        vertical-align: middle;\n",
       "    }\n",
       "\n",
       "    .dataframe tbody tr th {\n",
       "        vertical-align: top;\n",
       "    }\n",
       "\n",
       "    .dataframe thead th {\n",
       "        text-align: right;\n",
       "    }\n",
       "</style>\n",
       "<table border=\"1\" class=\"dataframe\">\n",
       "  <thead>\n",
       "    <tr style=\"text-align: right;\">\n",
       "      <th></th>\n",
       "      <th>fold</th>\n",
       "      <th>population</th>\n",
       "      <th>householdsize</th>\n",
       "      <th>racepctblack</th>\n",
       "      <th>racePctWhite</th>\n",
       "      <th>racePctAsian</th>\n",
       "      <th>racePctHisp</th>\n",
       "      <th>agePct12t21</th>\n",
       "      <th>agePct12t29</th>\n",
       "      <th>agePct16t24</th>\n",
       "      <th>...</th>\n",
       "      <th>NumStreet</th>\n",
       "      <th>PctForeignBorn</th>\n",
       "      <th>PctBornSameState</th>\n",
       "      <th>PctSameHouse85</th>\n",
       "      <th>PctSameCity85</th>\n",
       "      <th>PctSameState85</th>\n",
       "      <th>LandArea</th>\n",
       "      <th>PopDens</th>\n",
       "      <th>PctUsePubTrans</th>\n",
       "      <th>ViolentCrimesPerPop</th>\n",
       "    </tr>\n",
       "  </thead>\n",
       "  <tbody>\n",
       "    <tr>\n",
       "      <th>0</th>\n",
       "      <td>-0.007828</td>\n",
       "      <td>0.053072</td>\n",
       "      <td>-0.008423</td>\n",
       "      <td>0.107445</td>\n",
       "      <td>-0.116775</td>\n",
       "      <td>-0.044960</td>\n",
       "      <td>0.068266</td>\n",
       "      <td>0.061318</td>\n",
       "      <td>0.073013</td>\n",
       "      <td>0.062503</td>\n",
       "      <td>...</td>\n",
       "      <td>0.044232</td>\n",
       "      <td>-0.003111</td>\n",
       "      <td>0.033658</td>\n",
       "      <td>-0.046556</td>\n",
       "      <td>0.014195</td>\n",
       "      <td>0.014163</td>\n",
       "      <td>0.026372</td>\n",
       "      <td>0.033880</td>\n",
       "      <td>-0.018852</td>\n",
       "      <td>0.127244</td>\n",
       "    </tr>\n",
       "    <tr>\n",
       "      <th>1</th>\n",
       "      <td>0.004366</td>\n",
       "      <td>0.087973</td>\n",
       "      <td>0.114270</td>\n",
       "      <td>0.006548</td>\n",
       "      <td>-0.118141</td>\n",
       "      <td>0.168013</td>\n",
       "      <td>0.161441</td>\n",
       "      <td>0.033535</td>\n",
       "      <td>0.077506</td>\n",
       "      <td>0.048863</td>\n",
       "      <td>...</td>\n",
       "      <td>0.080219</td>\n",
       "      <td>0.212684</td>\n",
       "      <td>-0.128580</td>\n",
       "      <td>-0.069300</td>\n",
       "      <td>-0.054088</td>\n",
       "      <td>-0.069797</td>\n",
       "      <td>0.028719</td>\n",
       "      <td>0.137881</td>\n",
       "      <td>0.105247</td>\n",
       "      <td>0.066192</td>\n",
       "    </tr>\n",
       "  </tbody>\n",
       "</table>\n",
       "<p>2 rows × 101 columns</p>\n",
       "</div>"
      ],
      "text/plain": [
       "       fold  population  householdsize  racepctblack  racePctWhite  \\\n",
       "0 -0.007828    0.053072      -0.008423      0.107445     -0.116775   \n",
       "1  0.004366    0.087973       0.114270      0.006548     -0.118141   \n",
       "\n",
       "   racePctAsian  racePctHisp  agePct12t21  agePct12t29  agePct16t24  ...  \\\n",
       "0     -0.044960     0.068266     0.061318     0.073013     0.062503  ...   \n",
       "1      0.168013     0.161441     0.033535     0.077506     0.048863  ...   \n",
       "\n",
       "   NumStreet  PctForeignBorn  PctBornSameState  PctSameHouse85  PctSameCity85  \\\n",
       "0   0.044232       -0.003111          0.033658       -0.046556       0.014195   \n",
       "1   0.080219        0.212684         -0.128580       -0.069300      -0.054088   \n",
       "\n",
       "   PctSameState85  LandArea   PopDens  PctUsePubTrans  ViolentCrimesPerPop  \n",
       "0        0.014163  0.026372  0.033880       -0.018852             0.127244  \n",
       "1       -0.069797  0.028719  0.137881        0.105247             0.066192  \n",
       "\n",
       "[2 rows x 101 columns]"
      ]
     },
     "execution_count": 11,
     "metadata": {},
     "output_type": "execute_result"
    }
   ],
   "source": [
    "pca1_df= pd.DataFrame(data = pca1.components_, columns= columns)\n",
    "pca1_df.head()"
   ]
  },
  {
   "cell_type": "code",
   "execution_count": 12,
   "metadata": {},
   "outputs": [
    {
     "name": "stdout",
     "output_type": "stream",
     "text": [
      "                         PC 1      PC 2\n",
      "medFamInc            0.180802  0.060153\n",
      "medIncome            0.179412  0.068525\n",
      "PctKids2Par          0.174488  0.012355\n",
      "pctWInvInc           0.173321  0.019820\n",
      "PctPopUnderPov       0.172042  0.008457\n",
      "...                       ...       ...\n",
      "PctWorkMomYoungKids  0.008579  0.067961\n",
      "householdsize        0.008423  0.114270\n",
      "fold                 0.007828  0.004366\n",
      "PctForeignBorn       0.003111  0.212684\n",
      "pctWFarmSelf         0.002223  0.018682\n",
      "\n",
      "[101 rows x 2 columns]\n"
     ]
    }
   ],
   "source": [
    "pca1_dfT= pca1_df.transpose()\n",
    "pca2= pca1_dfT.abs()\n",
    "pca2.columns= ['PC 1','PC 2']\n",
    "pca2.sort_values(by=['PC 1'],inplace=True, ascending= False)\n",
    "print(pca2)"
   ]
  },
  {
   "cell_type": "code",
   "execution_count": 13,
   "metadata": {},
   "outputs": [
    {
     "data": {
      "text/plain": [
       "<matplotlib.collections.PathCollection at 0x7fc028248eb0>"
      ]
     },
     "execution_count": 13,
     "metadata": {},
     "output_type": "execute_result"
    },
    {
     "data": {
      "image/png": "[encoded data removed]",
      "text/plain": [
       "<Figure size 432x288 with 1 Axes>"
      ]
     },
     "metadata": {
      "needs_background": "light"
     },
     "output_type": "display_data"
    }
   ],
   "source": [
    "plt.scatter(pca2['PC 1'],pca2['PC 2'])"
   ]
  },
  {
   "cell_type": "code",
   "execution_count": 14,
   "metadata": {},
   "outputs": [],
   "source": [
    "census.drop('medFamInc', inplace= True, axis=1)"
   ]
  },
  {
   "cell_type": "code",
   "execution_count": 15,
   "metadata": {},
   "outputs": [],
   "source": [
    "scaler= StandardScaler()\n",
    "census_scaled1= scaler.fit_transform(census)"
   ]
  },
  {
   "cell_type": "code",
   "execution_count": 16,
   "metadata": {},
   "outputs": [
    {
     "name": "stdout",
     "output_type": "stream",
     "text": [
      "[24.70850328 16.77606426]\n",
      "[0.24696112 0.16767651]\n"
     ]
    }
   ],
   "source": [
    "pca3= pca.fit(census_scaled1)\n",
    "print(pca3.explained_variance_)\n",
    "print(pca3.explained_variance_ratio_)"
   ]
  },
  {
   "cell_type": "code",
   "execution_count": 19,
   "metadata": {},
   "outputs": [
    {
     "name": "stdout",
     "output_type": "stream",
     "text": [
      "                         PC 1      PC 2\n",
      "medIncome            0.180017  0.074486\n",
      "PctKids2Par          0.178371  0.005785\n",
      "pctWInvInc           0.176204  0.014073\n",
      "PctPopUnderPov       0.175163  0.002403\n",
      "PctFam2Par           0.175114  0.005218\n",
      "...                       ...       ...\n",
      "fold                 0.007878  0.004664\n",
      "PctWorkMomYoungKids  0.006923  0.068257\n",
      "householdsize        0.006499  0.115239\n",
      "pctWFarmSelf         0.003106  0.018320\n",
      "PctForeignBorn       0.001561  0.213267\n",
      "\n",
      "[100 rows x 2 columns]\n"
     ]
    },
    {
     "data": {
      "text/plain": [
       "<matplotlib.collections.PathCollection at 0x7fc0387c3bb0>"
      ]
     },
     "execution_count": 19,
     "metadata": {},
     "output_type": "execute_result"
    },
    {
     "data": {
      "image/png": "[encoded data removed]",
      "text/plain": [
       "<Figure size 432x288 with 1 Axes>"
      ]
     },
     "metadata": {
      "needs_background": "light"
     },
     "output_type": "display_data"
    }
   ],
   "source": [
    "columns= list(census.columns)\n",
    "pca3_df= pd.DataFrame(data = pca3.components_, columns= columns)\n",
    "pca3_dfT= pca3_df.transpose()\n",
    "pca3_= pca3_dfT.abs()\n",
    "pca3_.columns= ['PC 1','PC 2']\n",
    "pca3_.sort_values(by=['PC 1'],inplace=True, ascending= False)\n",
    "print(pca3_)\n",
    "plt.scatter(pca3_['PC 1'],pca3_['PC 2'])"
   ]
  },
  {
   "cell_type": "markdown",
   "metadata": {},
   "source": [
    "## Exercise 2"
   ]
  },
  {
   "cell_type": "code",
   "execution_count": 23,
   "metadata": {},
   "outputs": [],
   "source": [
    "londonBorough= pd.read_excel('london-borough-profilesV2.xlsx',sheet_name='london-borough-profilesV2')"
   ]
  },
  {
   "cell_type": "code",
   "execution_count": 24,
   "metadata": {},
   "outputs": [],
   "source": [
    "londonBorough_feat = londonBorough.apply(pd.to_numeric, errors='coerce')\n",
    "londonBorough_feat = londonBorough_feat.dropna(axis=1, how='all')"
   ]
  },
  {
   "cell_type": "code",
   "execution_count": 58,
   "metadata": {},
   "outputs": [
    {
     "name": "stdout",
     "output_type": "stream",
     "text": [
      "0\n",
      "        Code  Area/INDICATOR Inner/ Outer London  \\\n",
      "0  E09000001  City of London        Inner London   \n",
      "\n",
      "  % of resident population born abroad (2013)  \\\n",
      "0                                           -   \n",
      "\n",
      "  Largest migrant population by country of birth (2013)  \\\n",
      "0                                                  -      \n",
      "\n",
      "  % of largest migrant population (2013)  \\\n",
      "0                                      -   \n",
      "\n",
      "  Second largest migrant population by country of birth (2013)  \\\n",
      "0                                                  -             \n",
      "\n",
      "  % of second largest migrant population (2013)  \\\n",
      "0                                             -   \n",
      "\n",
      "  Third largest migrant population by country of birth (2013)  \\\n",
      "0                                                  -            \n",
      "\n",
      "  % of third largest migrant population (2013)  ...  \\\n",
      "0                                            -  ...   \n",
      "\n",
      "  % of pupils whose first language is not English (2014)  \\\n",
      "0                                                  .       \n",
      "\n",
      "  Male life expectancy, (2010-12) Female life expectancy, (2010-12)  \\\n",
      "0                               .                                 .   \n",
      "\n",
      "  Teenage conception rate (2012) Anxiety score 2012-13 (out of 10)  \\\n",
      "0                              .                                 x   \n",
      "\n",
      "  Political control in council  \\\n",
      "0                          NaN   \n",
      "\n",
      "  Proportion of seats won by Conservatives in 2014 election  \\\n",
      "0                                                NaN          \n",
      "\n",
      "  Proportion of seats won by Labour in 2014 election  \\\n",
      "0                                                NaN   \n",
      "\n",
      "  Proportion of seats won by Lib Dems in 2014 election  \\\n",
      "0                                                NaN     \n",
      "\n",
      "  Turnout at 2014 local elections  \n",
      "0                             NaN  \n",
      "\n",
      "[1 rows x 51 columns]\n"
     ]
    }
   ],
   "source": [
    "lB= londonBorough_feat\n",
    "lB_= lB.fillna(lB.mean())\n",
    "print(lB_.isnull().sum().sum())\n",
    "print(londonBorough.select_dtypes('object').head(1\n",
    "))"
   ]
  },
  {
   "cell_type": "code",
   "execution_count": 48,
   "metadata": {},
   "outputs": [],
   "source": [
    "from sklearn.metrics import euclidean_distances\n",
    "from sklearn.manifold import MDS\n",
    "\n",
    "distMatrix = euclidean_distances(lB_, lB_)"
   ]
  },
  {
   "cell_type": "code",
   "execution_count": 51,
   "metadata": {},
   "outputs": [
    {
     "name": "stdout",
     "output_type": "stream",
     "text": [
      "[[-4614287.78814617 -1216230.42488211]\n",
      " [-4329721.7779951  -1786611.34476163]\n",
      " [-4179659.31687253 -1550651.54939894]\n",
      " [-4289128.35486071 -1726392.52207011]\n",
      " [-4269960.31714049 -1579003.97092804]\n",
      " [-4207910.68762018 -1626347.71337746]\n",
      " [-4388912.86454812 -1284922.70723791]\n",
      " [-4145243.85489867 -1643244.08062161]\n",
      " [-4220154.86969712 -1575168.00614632]\n",
      " [-4208811.39476955 -1660200.81830353]\n",
      " [-4290808.29091349 -1681745.67101324]\n",
      " [-4349128.29310891 -1579253.6219835 ]\n",
      " [-4497980.86227708 -1440091.08587124]\n",
      " [-4332206.16277716 -1622746.10562478]\n",
      " [-4330729.70285933 -1644781.49144762]\n",
      " [-4280055.93722571 -1718676.71530899]\n",
      " [-4197225.94679694 -1590780.13436379]\n",
      " [-4269200.62765424 -1623250.521832  ]\n",
      " [-4396115.80813203 -1464725.02929805]\n",
      " [-4743492.63377981 -1097425.67555514]\n",
      " [-4408390.10320634 -1656000.68930685]\n",
      " [-4265957.6682045  -1561980.47041035]\n",
      " [-4263882.26557707 -1685169.60796069]\n",
      " [-4365741.15822014 -1650283.36665196]\n",
      " [-4219998.21587169 -1696859.08658863]\n",
      " [-4262812.4071529  -1665209.23025639]\n",
      " [-4452799.52979606 -1540157.83916494]\n",
      " [-4239888.73653073 -1473208.65267664]\n",
      " [-4341002.85429811 -1716159.74923936]\n",
      " [-4257761.22378962 -1494250.30076969]\n",
      " [-4287920.24454753 -1684976.58636117]\n",
      " [-4327163.90626958 -1478328.56110218]\n",
      " [-4373153.56309165  -910999.52798394]\n",
      " [-1103173.83829422  1644253.15003561]\n",
      " [ 1073958.40671223   643032.69328087]\n",
      " [ 4430447.5531367   4209656.86905119]\n",
      " [60636624.20404232 24135040.06706207]\n",
      " [77569351.0430322  20693850.07906906]]\n"
     ]
    }
   ],
   "source": [
    "mds= MDS(random_state=0)\n",
    "lB1 = mds.fit_transform(lB_)\n",
    "print(lB1)"
   ]
  },
  {
   "cell_type": "code",
   "execution_count": 64,
   "metadata": {},
   "outputs": [
    {
     "data": {
      "image/png": "[encoded data removed]",
      "text/plain": [
       "<Figure size 1440x720 with 1 Axes>"
      ]
     },
     "metadata": {
      "needs_background": "light"
     },
     "output_type": "display_data"
    }
   ],
   "source": [
    "plt.figure(figsize=(20,10))\n",
    "plt.scatter(lB1[:,0],lB1[:,1])\n",
    "for i, txt in enumerate(londonBorough['Area/INDICATOR']):\n",
    "    plt.annotate(txt,(lB1[:,0][i], lB1[:,1][i]))\n",
    "    \n",
    "plt.show()"
   ]
  },
  {
   "cell_type": "code",
   "execution_count": null,
   "metadata": {},
   "outputs": [],
   "source": []
  }
 ],
 "metadata": {
  "kernelspec": {
   "display_name": "Python 3",
   "language": "python",
   "name": "python3"
  },
  "language_info": {
   "codemirror_mode": {
    "name": "ipython",
    "version": 3
   },
   "file_extension": ".py",
   "mimetype": "text/x-python",
   "name": "python",
   "nbconvert_exporter": "python",
   "pygments_lexer": "ipython3",
   "version": "3.8.5"
  }
 },
 "nbformat": 4,
 "nbformat_minor": 4
}
